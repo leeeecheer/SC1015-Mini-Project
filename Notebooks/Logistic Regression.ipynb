{
 "cells": [
  {
   "cell_type": "code",
   "execution_count": 1,
   "id": "efae7208",
   "metadata": {},
   "outputs": [],
   "source": [
    "import numpy as np\n",
    "import pandas as pd\n",
    "import matplotlib.pyplot as plt\n",
    "import seaborn as sb"
   ]
  },
  {
   "cell_type": "code",
   "execution_count": 2,
   "id": "7975ba60",
   "metadata": {},
   "outputs": [],
   "source": [
    "from sklearn.linear_model import LogisticRegression\n",
    "from sklearn.metrics import confusion_matrix\n",
    "from sklearn.model_selection import train_test_split"
   ]
  },
  {
   "cell_type": "code",
   "execution_count": 35,
   "id": "c422e034",
   "metadata": {},
   "outputs": [],
   "source": [
    "# this function is used to visualise the confusion matrix for the model\n",
    "def visualize_preds(table,y_true, y_pred, title):\n",
    "    ls = []\n",
    "    f = plt.figure(figsize = (8,8))\n",
    "    cf = confusion_matrix(y_true, y_pred)\n",
    "    sb.heatmap(cf, fmt='.0f', annot=True)\n",
    "    \n",
    "    accuracy  = np.trace(cf) / float(np.sum(cf))\n",
    "\n",
    "    # Metrics for Binary Confusion Matrices\n",
    "    if sum(cf[:,1]) == 0:\n",
    "        precision = 0.0;\n",
    "    else:\n",
    "        precision = cf[1,1] / sum(cf[:,1])\n",
    "        \n",
    "    if sum(cf[1,:]) == 0:\n",
    "        recall = 0.0;\n",
    "    else:\n",
    "        recall    = cf[1,1] / sum(cf[1,:])\n",
    "        \n",
    "    if (precision + recall) == 0:\n",
    "        f1_score = 0.0;\n",
    "    else:\n",
    "        f1_score  = 2 *precision * recall / (precision + recall)\n",
    "    stats_text = \"\\n\\nAccuracy={:0.2f}\\nPrecision={:0.2f}\\nRecall={:0.2f}\\nF1 Score={:0.2f}\".format(\n",
    "        accuracy,precision,recall,f1_score)\n",
    "    \n",
    "    ls.append(accuracy)\n",
    "    ls.append(precision)\n",
    "    ls.append(recall)\n",
    "    ls.append(f1_score)\n",
    "    ls = pd.DataFrame(ls)\n",
    "    table = pd.concat([table,ls], axis = 1)\n",
    "    \n",
    "    plt.xlabel('Predicted' + stats_text)\n",
    "    plt.ylabel('Actual')\n",
    "    plt.title(title)\n",
    "    \n",
    "    return table"
   ]
  },
  {
   "cell_type": "code",
   "execution_count": 4,
   "id": "9cebbd0b",
   "metadata": {},
   "outputs": [],
   "source": [
    "table1 = pd.DataFrame()\n",
    "table2 = pd.DataFrame()"
   ]
  },
  {
   "cell_type": "code",
   "execution_count": 5,
   "id": "610b7142",
   "metadata": {},
   "outputs": [
    {
     "data": {
      "text/html": [
       "<div>\n",
       "<style scoped>\n",
       "    .dataframe tbody tr th:only-of-type {\n",
       "        vertical-align: middle;\n",
       "    }\n",
       "\n",
       "    .dataframe tbody tr th {\n",
       "        vertical-align: top;\n",
       "    }\n",
       "\n",
       "    .dataframe thead th {\n",
       "        text-align: right;\n",
       "    }\n",
       "</style>\n",
       "<table border=\"1\" class=\"dataframe\">\n",
       "  <thead>\n",
       "    <tr style=\"text-align: right;\">\n",
       "      <th></th>\n",
       "      <th>Income</th>\n",
       "      <th>Age</th>\n",
       "      <th>Experience</th>\n",
       "      <th>Married/Single</th>\n",
       "      <th>House_Ownership</th>\n",
       "      <th>Car_Ownership</th>\n",
       "      <th>Profession</th>\n",
       "      <th>CITY</th>\n",
       "      <th>STATE</th>\n",
       "      <th>CURRENT_JOB_YRS</th>\n",
       "      <th>CURRENT_HOUSE_YRS</th>\n",
       "      <th>Risk_Flag</th>\n",
       "      <th>Risk_Class</th>\n",
       "    </tr>\n",
       "  </thead>\n",
       "  <tbody>\n",
       "    <tr>\n",
       "      <th>0</th>\n",
       "      <td>1303834</td>\n",
       "      <td>23</td>\n",
       "      <td>3</td>\n",
       "      <td>single</td>\n",
       "      <td>rented</td>\n",
       "      <td>no</td>\n",
       "      <td>Mechanical_engineer</td>\n",
       "      <td>Rewa</td>\n",
       "      <td>Madhya_Pradesh</td>\n",
       "      <td>3</td>\n",
       "      <td>13</td>\n",
       "      <td>0</td>\n",
       "      <td>No Risk</td>\n",
       "    </tr>\n",
       "    <tr>\n",
       "      <th>1</th>\n",
       "      <td>7574516</td>\n",
       "      <td>40</td>\n",
       "      <td>10</td>\n",
       "      <td>single</td>\n",
       "      <td>rented</td>\n",
       "      <td>no</td>\n",
       "      <td>Software_Developer</td>\n",
       "      <td>Parbhani</td>\n",
       "      <td>Maharashtra</td>\n",
       "      <td>9</td>\n",
       "      <td>13</td>\n",
       "      <td>0</td>\n",
       "      <td>No Risk</td>\n",
       "    </tr>\n",
       "    <tr>\n",
       "      <th>2</th>\n",
       "      <td>3991815</td>\n",
       "      <td>66</td>\n",
       "      <td>4</td>\n",
       "      <td>married</td>\n",
       "      <td>rented</td>\n",
       "      <td>no</td>\n",
       "      <td>Technical_writer</td>\n",
       "      <td>Alappuzha</td>\n",
       "      <td>Kerala</td>\n",
       "      <td>4</td>\n",
       "      <td>10</td>\n",
       "      <td>0</td>\n",
       "      <td>No Risk</td>\n",
       "    </tr>\n",
       "    <tr>\n",
       "      <th>3</th>\n",
       "      <td>6256451</td>\n",
       "      <td>41</td>\n",
       "      <td>2</td>\n",
       "      <td>single</td>\n",
       "      <td>rented</td>\n",
       "      <td>yes</td>\n",
       "      <td>Software_Developer</td>\n",
       "      <td>Bhubaneswar</td>\n",
       "      <td>Odisha</td>\n",
       "      <td>2</td>\n",
       "      <td>12</td>\n",
       "      <td>1</td>\n",
       "      <td>Risk</td>\n",
       "    </tr>\n",
       "    <tr>\n",
       "      <th>4</th>\n",
       "      <td>5768871</td>\n",
       "      <td>47</td>\n",
       "      <td>11</td>\n",
       "      <td>single</td>\n",
       "      <td>rented</td>\n",
       "      <td>no</td>\n",
       "      <td>Civil_servant</td>\n",
       "      <td>Tiruchirappalli[10]</td>\n",
       "      <td>Tamil_Nadu</td>\n",
       "      <td>3</td>\n",
       "      <td>14</td>\n",
       "      <td>1</td>\n",
       "      <td>Risk</td>\n",
       "    </tr>\n",
       "  </tbody>\n",
       "</table>\n",
       "</div>"
      ],
      "text/plain": [
       "    Income  Age  Experience Married/Single House_Ownership Car_Ownership  \\\n",
       "0  1303834   23           3         single          rented            no   \n",
       "1  7574516   40          10         single          rented            no   \n",
       "2  3991815   66           4        married          rented            no   \n",
       "3  6256451   41           2         single          rented           yes   \n",
       "4  5768871   47          11         single          rented            no   \n",
       "\n",
       "            Profession                 CITY           STATE  CURRENT_JOB_YRS  \\\n",
       "0  Mechanical_engineer                 Rewa  Madhya_Pradesh                3   \n",
       "1   Software_Developer             Parbhani     Maharashtra                9   \n",
       "2     Technical_writer            Alappuzha          Kerala                4   \n",
       "3   Software_Developer          Bhubaneswar          Odisha                2   \n",
       "4        Civil_servant  Tiruchirappalli[10]      Tamil_Nadu                3   \n",
       "\n",
       "   CURRENT_HOUSE_YRS  Risk_Flag Risk_Class  \n",
       "0                 13          0    No Risk  \n",
       "1                 13          0    No Risk  \n",
       "2                 10          0    No Risk  \n",
       "3                 12          1       Risk  \n",
       "4                 14          1       Risk  "
      ]
     },
     "execution_count": 5,
     "metadata": {},
     "output_type": "execute_result"
    }
   ],
   "source": [
    "cleanTrainData = pd.read_csv('clean-train-data.csv')\n",
    "cleanTrainData.head()"
   ]
  },
  {
   "cell_type": "code",
   "execution_count": 11,
   "id": "1185ae31",
   "metadata": {},
   "outputs": [
    {
     "data": {
      "text/html": [
       "<div>\n",
       "<style scoped>\n",
       "    .dataframe tbody tr th:only-of-type {\n",
       "        vertical-align: middle;\n",
       "    }\n",
       "\n",
       "    .dataframe tbody tr th {\n",
       "        vertical-align: top;\n",
       "    }\n",
       "\n",
       "    .dataframe thead th {\n",
       "        text-align: right;\n",
       "    }\n",
       "</style>\n",
       "<table border=\"1\" class=\"dataframe\">\n",
       "  <thead>\n",
       "    <tr style=\"text-align: right;\">\n",
       "      <th></th>\n",
       "      <th>Married/Single_married</th>\n",
       "      <th>Married/Single_single</th>\n",
       "      <th>House_Ownership_norent_noown</th>\n",
       "      <th>House_Ownership_owned</th>\n",
       "      <th>House_Ownership_rented</th>\n",
       "      <th>Car_Ownership_no</th>\n",
       "      <th>Car_Ownership_yes</th>\n",
       "    </tr>\n",
       "  </thead>\n",
       "  <tbody>\n",
       "    <tr>\n",
       "      <th>0</th>\n",
       "      <td>0.0</td>\n",
       "      <td>1.0</td>\n",
       "      <td>0.0</td>\n",
       "      <td>0.0</td>\n",
       "      <td>1.0</td>\n",
       "      <td>1.0</td>\n",
       "      <td>0.0</td>\n",
       "    </tr>\n",
       "    <tr>\n",
       "      <th>1</th>\n",
       "      <td>0.0</td>\n",
       "      <td>1.0</td>\n",
       "      <td>0.0</td>\n",
       "      <td>0.0</td>\n",
       "      <td>1.0</td>\n",
       "      <td>1.0</td>\n",
       "      <td>0.0</td>\n",
       "    </tr>\n",
       "    <tr>\n",
       "      <th>2</th>\n",
       "      <td>1.0</td>\n",
       "      <td>0.0</td>\n",
       "      <td>0.0</td>\n",
       "      <td>0.0</td>\n",
       "      <td>1.0</td>\n",
       "      <td>1.0</td>\n",
       "      <td>0.0</td>\n",
       "    </tr>\n",
       "    <tr>\n",
       "      <th>3</th>\n",
       "      <td>0.0</td>\n",
       "      <td>1.0</td>\n",
       "      <td>0.0</td>\n",
       "      <td>0.0</td>\n",
       "      <td>1.0</td>\n",
       "      <td>0.0</td>\n",
       "      <td>1.0</td>\n",
       "    </tr>\n",
       "    <tr>\n",
       "      <th>4</th>\n",
       "      <td>0.0</td>\n",
       "      <td>1.0</td>\n",
       "      <td>0.0</td>\n",
       "      <td>0.0</td>\n",
       "      <td>1.0</td>\n",
       "      <td>1.0</td>\n",
       "      <td>0.0</td>\n",
       "    </tr>\n",
       "  </tbody>\n",
       "</table>\n",
       "</div>"
      ],
      "text/plain": [
       "   Married/Single_married  Married/Single_single  \\\n",
       "0                     0.0                    1.0   \n",
       "1                     0.0                    1.0   \n",
       "2                     1.0                    0.0   \n",
       "3                     0.0                    1.0   \n",
       "4                     0.0                    1.0   \n",
       "\n",
       "   House_Ownership_norent_noown  House_Ownership_owned  \\\n",
       "0                           0.0                    0.0   \n",
       "1                           0.0                    0.0   \n",
       "2                           0.0                    0.0   \n",
       "3                           0.0                    0.0   \n",
       "4                           0.0                    0.0   \n",
       "\n",
       "   House_Ownership_rented  Car_Ownership_no  Car_Ownership_yes  \n",
       "0                     1.0               1.0                0.0  \n",
       "1                     1.0               1.0                0.0  \n",
       "2                     1.0               1.0                0.0  \n",
       "3                     1.0               0.0                1.0  \n",
       "4                     1.0               1.0                0.0  "
      ]
     },
     "execution_count": 11,
     "metadata": {},
     "output_type": "execute_result"
    }
   ],
   "source": [
    "# Converting categorical values to numeric values using one hot encoder\n",
    "from sklearn.preprocessing import OneHotEncoder\n",
    "ohe = OneHotEncoder()\n",
    "# OneHotEncoding of categorical predictors (not the response)\n",
    "cleanTrainData_cat = cleanTrainData[['Married/Single','House_Ownership','Car_Ownership']]\n",
    "ohe.fit(cleanTrainData_cat)\n",
    "cleanTrainData_cat_ohe = pd.DataFrame(ohe.transform(cleanTrainData_cat).toarray(), \n",
    "                                  columns=ohe.get_feature_names(cleanTrainData_cat.columns))\n",
    "                                    #columns=ohe.get_feature_names_out(creditData_cat.columns))\n",
    "# Check the encoded variables\n",
    "cleanTrainData_cat_ohe.head()"
   ]
  },
  {
   "cell_type": "code",
   "execution_count": 12,
   "id": "e85f2ba1",
   "metadata": {},
   "outputs": [
    {
     "name": "stdout",
     "output_type": "stream",
     "text": [
      "<class 'pandas.core.frame.DataFrame'>\n",
      "RangeIndex: 252000 entries, 0 to 251999\n",
      "Data columns (total 13 columns):\n",
      " #   Column                        Non-Null Count   Dtype  \n",
      "---  ------                        --------------   -----  \n",
      " 0   Income                        252000 non-null  int64  \n",
      " 1   Age                           252000 non-null  int64  \n",
      " 2   Experience                    252000 non-null  int64  \n",
      " 3   CURRENT_JOB_YRS               252000 non-null  int64  \n",
      " 4   CURRENT_HOUSE_YRS             252000 non-null  int64  \n",
      " 5   Risk_Flag                     252000 non-null  int64  \n",
      " 6   Married/Single_married        252000 non-null  float64\n",
      " 7   Married/Single_single         252000 non-null  float64\n",
      " 8   House_Ownership_norent_noown  252000 non-null  float64\n",
      " 9   House_Ownership_owned         252000 non-null  float64\n",
      " 10  House_Ownership_rented        252000 non-null  float64\n",
      " 11  Car_Ownership_no              252000 non-null  float64\n",
      " 12  Car_Ownership_yes             252000 non-null  float64\n",
      "dtypes: float64(7), int64(6)\n",
      "memory usage: 25.0 MB\n"
     ]
    }
   ],
   "source": [
    "cleanTrainData_num=pd.DataFrame(cleanTrainData[[\"Income\",\"Age\",\"Experience\",\"CURRENT_JOB_YRS\",\"CURRENT_HOUSE_YRS\",\"Risk_Flag\"]])\n",
    "combined_data = pd.concat([cleanTrainData_num, cleanTrainData_cat_ohe], \n",
    "                           sort = False, axis = 1).reindex(index=cleanTrainData_cat_ohe.index)\n",
    "combined_data.info()"
   ]
  },
  {
   "cell_type": "code",
   "execution_count": 28,
   "id": "64c5b471",
   "metadata": {},
   "outputs": [
    {
     "data": {
      "text/plain": [
       "0    221004\n",
       "1    221004\n",
       "Name: Risk_Flag, dtype: int64"
      ]
     },
     "execution_count": 28,
     "metadata": {},
     "output_type": "execute_result"
    }
   ],
   "source": [
    "# Upsampling the No Risk in Risk_Flag to the same number as Risk in Risk_Flag\n",
    "from sklearn.utils import resample\n",
    "\n",
    "# combined_data has OHE done, contains both numeric and categorical data\n",
    "risk = combined_data[combined_data.Risk_Flag == 1]\n",
    "no_risk = combined_data[combined_data.Risk_Flag == 0]\n",
    " \n",
    "# Upsample the Bad samples\n",
    "risk_up = resample(risk, \n",
    "                        replace=True,                     # sample with replacement\n",
    "                        n_samples=no_risk.shape[0])    # to match number of Good\n",
    " \n",
    "# Combine the two classes back after upsampling\n",
    "combined_data_up = pd.concat([no_risk,risk_up])\n",
    " \n",
    "# Check the ratio of the classes\n",
    "combined_data_up['Risk_Flag'].value_counts()"
   ]
  },
  {
   "cell_type": "code",
   "execution_count": 29,
   "id": "78dad898",
   "metadata": {},
   "outputs": [
    {
     "data": {
      "text/html": [
       "<div>\n",
       "<style scoped>\n",
       "    .dataframe tbody tr th:only-of-type {\n",
       "        vertical-align: middle;\n",
       "    }\n",
       "\n",
       "    .dataframe tbody tr th {\n",
       "        vertical-align: top;\n",
       "    }\n",
       "\n",
       "    .dataframe thead th {\n",
       "        text-align: right;\n",
       "    }\n",
       "</style>\n",
       "<table border=\"1\" class=\"dataframe\">\n",
       "  <thead>\n",
       "    <tr style=\"text-align: right;\">\n",
       "      <th></th>\n",
       "      <th>Income</th>\n",
       "      <th>Age</th>\n",
       "      <th>Experience</th>\n",
       "      <th>CURRENT_JOB_YRS</th>\n",
       "      <th>CURRENT_HOUSE_YRS</th>\n",
       "      <th>Risk_Flag</th>\n",
       "      <th>Married/Single_married</th>\n",
       "      <th>Married/Single_single</th>\n",
       "      <th>House_Ownership_norent_noown</th>\n",
       "      <th>House_Ownership_owned</th>\n",
       "      <th>House_Ownership_rented</th>\n",
       "      <th>Car_Ownership_no</th>\n",
       "      <th>Car_Ownership_yes</th>\n",
       "    </tr>\n",
       "  </thead>\n",
       "  <tbody>\n",
       "    <tr>\n",
       "      <th>0</th>\n",
       "      <td>1303834</td>\n",
       "      <td>23</td>\n",
       "      <td>3</td>\n",
       "      <td>3</td>\n",
       "      <td>13</td>\n",
       "      <td>0</td>\n",
       "      <td>0.0</td>\n",
       "      <td>1.0</td>\n",
       "      <td>0.0</td>\n",
       "      <td>0.0</td>\n",
       "      <td>1.0</td>\n",
       "      <td>1.0</td>\n",
       "      <td>0.0</td>\n",
       "    </tr>\n",
       "    <tr>\n",
       "      <th>1</th>\n",
       "      <td>7574516</td>\n",
       "      <td>40</td>\n",
       "      <td>10</td>\n",
       "      <td>9</td>\n",
       "      <td>13</td>\n",
       "      <td>0</td>\n",
       "      <td>0.0</td>\n",
       "      <td>1.0</td>\n",
       "      <td>0.0</td>\n",
       "      <td>0.0</td>\n",
       "      <td>1.0</td>\n",
       "      <td>1.0</td>\n",
       "      <td>0.0</td>\n",
       "    </tr>\n",
       "    <tr>\n",
       "      <th>2</th>\n",
       "      <td>3991815</td>\n",
       "      <td>66</td>\n",
       "      <td>4</td>\n",
       "      <td>4</td>\n",
       "      <td>10</td>\n",
       "      <td>0</td>\n",
       "      <td>1.0</td>\n",
       "      <td>0.0</td>\n",
       "      <td>0.0</td>\n",
       "      <td>0.0</td>\n",
       "      <td>1.0</td>\n",
       "      <td>1.0</td>\n",
       "      <td>0.0</td>\n",
       "    </tr>\n",
       "    <tr>\n",
       "      <th>5</th>\n",
       "      <td>6915937</td>\n",
       "      <td>64</td>\n",
       "      <td>0</td>\n",
       "      <td>0</td>\n",
       "      <td>12</td>\n",
       "      <td>0</td>\n",
       "      <td>0.0</td>\n",
       "      <td>1.0</td>\n",
       "      <td>0.0</td>\n",
       "      <td>0.0</td>\n",
       "      <td>1.0</td>\n",
       "      <td>1.0</td>\n",
       "      <td>0.0</td>\n",
       "    </tr>\n",
       "    <tr>\n",
       "      <th>6</th>\n",
       "      <td>3954973</td>\n",
       "      <td>58</td>\n",
       "      <td>14</td>\n",
       "      <td>8</td>\n",
       "      <td>12</td>\n",
       "      <td>0</td>\n",
       "      <td>1.0</td>\n",
       "      <td>0.0</td>\n",
       "      <td>0.0</td>\n",
       "      <td>0.0</td>\n",
       "      <td>1.0</td>\n",
       "      <td>1.0</td>\n",
       "      <td>0.0</td>\n",
       "    </tr>\n",
       "  </tbody>\n",
       "</table>\n",
       "</div>"
      ],
      "text/plain": [
       "    Income  Age  Experience  CURRENT_JOB_YRS  CURRENT_HOUSE_YRS  Risk_Flag  \\\n",
       "0  1303834   23           3                3                 13          0   \n",
       "1  7574516   40          10                9                 13          0   \n",
       "2  3991815   66           4                4                 10          0   \n",
       "5  6915937   64           0                0                 12          0   \n",
       "6  3954973   58          14                8                 12          0   \n",
       "\n",
       "   Married/Single_married  Married/Single_single  \\\n",
       "0                     0.0                    1.0   \n",
       "1                     0.0                    1.0   \n",
       "2                     1.0                    0.0   \n",
       "5                     0.0                    1.0   \n",
       "6                     1.0                    0.0   \n",
       "\n",
       "   House_Ownership_norent_noown  House_Ownership_owned  \\\n",
       "0                           0.0                    0.0   \n",
       "1                           0.0                    0.0   \n",
       "2                           0.0                    0.0   \n",
       "5                           0.0                    0.0   \n",
       "6                           0.0                    0.0   \n",
       "\n",
       "   House_Ownership_rented  Car_Ownership_no  Car_Ownership_yes  \n",
       "0                     1.0               1.0                0.0  \n",
       "1                     1.0               1.0                0.0  \n",
       "2                     1.0               1.0                0.0  \n",
       "5                     1.0               1.0                0.0  \n",
       "6                     1.0               1.0                0.0  "
      ]
     },
     "execution_count": 29,
     "metadata": {},
     "output_type": "execute_result"
    }
   ],
   "source": [
    "combined_data_up.head()"
   ]
  },
  {
   "cell_type": "code",
   "execution_count": 30,
   "id": "81a6436a",
   "metadata": {},
   "outputs": [],
   "source": [
    "# Getting the X_train, X_vali, y_train and y_vali data\n",
    "y = pd.DataFrame(combined_data_up['Risk_Flag'])\n",
    "X = pd.DataFrame(combined_data_up.drop('Risk_Flag',axis = 1))\n",
    "\n",
    "# Split the Dataset into Train and Test\n",
    "X_train, X_vali, y_train, y_vali = train_test_split(X, y, test_size = 0.25)"
   ]
  },
  {
   "cell_type": "code",
   "execution_count": 31,
   "id": "9d96e59f",
   "metadata": {},
   "outputs": [
    {
     "name": "stdout",
     "output_type": "stream",
     "text": [
      "165745\n",
      "165761\n"
     ]
    }
   ],
   "source": [
    "no_risk_count,risk_count =y_train['Risk_Flag'].value_counts()\n",
    "print(risk_count)\n",
    "print(no_risk_count)\n",
    "total = no_risk_count + risk_count"
   ]
  },
  {
   "cell_type": "code",
   "execution_count": 32,
   "id": "7d530290",
   "metadata": {},
   "outputs": [
    {
     "data": {
      "text/plain": [
       "Risk_Flag\n",
       "0            165761\n",
       "1            165745\n",
       "dtype: int64"
      ]
     },
     "execution_count": 32,
     "metadata": {},
     "output_type": "execute_result"
    }
   ],
   "source": [
    "y_train.value_counts()"
   ]
  },
  {
   "cell_type": "code",
   "execution_count": 33,
   "id": "63ad2bcd",
   "metadata": {},
   "outputs": [
    {
     "name": "stdout",
     "output_type": "stream",
     "text": [
      "165745.9999034755\n",
      "The odds of having a risk in train dataset is\t: 165745.9999034755\n",
      "The overall classification accuracy \t\t:  0.49992760312030554\n"
     ]
    },
    {
     "name": "stderr",
     "output_type": "stream",
     "text": [
      "/Users/eecheerlee/opt/anaconda3/lib/python3.8/site-packages/sklearn/utils/validation.py:63: DataConversionWarning: A column-vector y was passed when a 1d array was expected. Please change the shape of y to (n_samples, ), for example using ravel().\n",
      "  return f(*args, **kwargs)\n"
     ]
    }
   ],
   "source": [
    "odds = risk_count/no_risk_count+risk_count\n",
    "print(odds)\n",
    "#Calculate the odd of a risk flag\n",
    "print(\"The odds of having a risk in train dataset is\\t: {}\".format(odds))\n",
    "\n",
    "#Perform the logistics regression\n",
    "logreg1 = LogisticRegression()\n",
    " \n",
    "#Fit the data\n",
    "logreg1.fit(X_train,y_train)\n",
    "\n",
    "#Print out the mean acuuracy\n",
    "print(\"The overall classification accuracy \\t\\t: \", logreg1.score(X_vali,y_vali))"
   ]
  },
  {
   "cell_type": "code",
   "execution_count": 34,
   "id": "b0917ca7",
   "metadata": {},
   "outputs": [
    {
     "data": {
      "image/png": "[encoded data removed]",
      "text/plain": [
       "<Figure size 576x576 with 2 Axes>"
      ]
     },
     "metadata": {
      "needs_background": "light"
     },
     "output_type": "display_data"
    },
    {
     "data": {
      "image/png": "[encoded data removed]",
      "text/plain": [
       "<Figure size 576x576 with 2 Axes>"
      ]
     },
     "metadata": {
      "needs_background": "light"
     },
     "output_type": "display_data"
    }
   ],
   "source": [
    "#Predict the data\n",
    "y_train_pred = logreg1.predict(X_train)\n",
    "y_vali_pred = logreg1.predict(X_vali)\n",
    "\n",
    "#Visualizing the data\n",
    "table1 = visualize_preds(table1,y_train,y_train_pred, title = 'Random Sampling (TRAIN)')\n",
    "table2 = visualize_preds(table2,y_vali,y_vali_pred, title = 'Random Sampling (TEST)')"
   ]
  },
  {
   "cell_type": "markdown",
   "id": "e97a0410",
   "metadata": {},
   "source": [
    "Our logistic regression model has an accuracy of 0.5. Unlike linear regression where we use the predictors to predict the numeric response variable, logistic regression uses the predictors to predict a categorical response variable. Even though our logistic regression model may not be the most accurate, we have learnt that such a model to predict categorical variables exist and perhaps we can use it for other projects in the future."
   ]
  },
  {
   "cell_type": "code",
   "execution_count": null,
   "id": "8fbbb0c6",
   "metadata": {},
   "outputs": [],
   "source": []
  }
 ],
 "metadata": {
  "kernelspec": {
   "display_name": "Python 3",
   "language": "python",
   "name": "python3"
  },
  "language_info": {
   "codemirror_mode": {
    "name": "ipython",
    "version": 3
   },
   "file_extension": ".py",
   "mimetype": "text/x-python",
   "name": "python",
   "nbconvert_exporter": "python",
   "pygments_lexer": "ipython3",
   "version": "3.8.8"
  }
 },
 "nbformat": 4,
 "nbformat_minor": 5
}
