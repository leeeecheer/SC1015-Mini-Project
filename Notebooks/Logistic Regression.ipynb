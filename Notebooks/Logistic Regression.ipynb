{
 "cells": [
  {
   "cell_type": "code",
   "execution_count": 1,
   "id": "aaccbca4",
   "metadata": {},
   "outputs": [],
   "source": [
    "import numpy as np\n",
    "import pandas as pd\n",
    "import matplotlib.pyplot as plt\n",
    "import seaborn as sb"
   ]
  },
  {
   "cell_type": "code",
   "execution_count": 2,
   "id": "b90192bd",
   "metadata": {},
   "outputs": [],
   "source": [
    "from sklearn.linear_model import LogisticRegression\n",
    "from sklearn.metrics import confusion_matrix\n",
    "from sklearn.model_selection import train_test_split"
   ]
  },
  {
   "cell_type": "code",
   "execution_count": 3,
   "id": "8933176a",
   "metadata": {},
   "outputs": [],
   "source": [
    "# this function is used to visualise the confusion matrix for the model\n",
    "def visualize_preds(table,y_true, y_pred, title):\n",
    "    ls = []\n",
    "    f = plt.figure(figsize = (8,8))\n",
    "    cf = confusion_matrix(y_true, y_pred)\n",
    "    sb.heatmap(cf, fmt='.0f', annot=True)\n",
    "    \n",
    "    accuracy  = np.trace(cf) / float(np.sum(cf))\n",
    "\n",
    "    # Metrics for Binary Confusion Matrices\n",
    "    if sum(cf[:,1]) == 0:\n",
    "        precision = 0.0;\n",
    "    else:\n",
    "        precision = cf[1,1] / sum(cf[:,1])\n",
    "        \n",
    "    if sum(cf[1,:]) == 0:\n",
    "        recall = 0.0;\n",
    "    else:\n",
    "        recall    = cf[1,1] / sum(cf[1,:])\n",
    "        \n",
    "    if (precision + recall) == 0:\n",
    "        f1_score = 0.0;\n",
    "    else:\n",
    "        f1_score  = 2 *precision * recall / (precision + recall)\n",
    "    stats_text = \"\\n\\nAccuracy={:0.2f}\\nPrecision={:0.2f}\\nRecall={:0.2f}\\nF1 Score={:0.2f}\".format(\n",
    "        accuracy,precision,recall,f1_score)\n",
    "    \n",
    "    ls.append(accuracy)\n",
    "    ls.append(precision)\n",
    "    ls.append(recall)\n",
    "    ls.append(f1_score)\n",
    "    ls = pd.DataFrame(ls)\n",
    "    table = pd.concat([table,ls], axis = 1)\n",
    "    \n",
    "    plt.xlabel('Predicted' + stats_text)\n",
    "    plt.ylabel('Actual')\n",
    "    plt.title(title)\n",
    "    \n",
    "    return table"
   ]
  },
  {
   "cell_type": "code",
   "execution_count": 4,
   "id": "6a8edc83",
   "metadata": {},
   "outputs": [],
   "source": [
    "table1 = pd.DataFrame()\n",
    "table2 = pd.DataFrame()"
   ]
  },
  {
   "cell_type": "code",
   "execution_count": 5,
   "id": "b5348551",
   "metadata": {},
   "outputs": [
    {
     "data": {
      "text/html": [
       "<div>\n",
       "<style scoped>\n",
       "    .dataframe tbody tr th:only-of-type {\n",
       "        vertical-align: middle;\n",
       "    }\n",
       "\n",
       "    .dataframe tbody tr th {\n",
       "        vertical-align: top;\n",
       "    }\n",
       "\n",
       "    .dataframe thead th {\n",
       "        text-align: right;\n",
       "    }\n",
       "</style>\n",
       "<table border=\"1\" class=\"dataframe\">\n",
       "  <thead>\n",
       "    <tr style=\"text-align: right;\">\n",
       "      <th></th>\n",
       "      <th>Income</th>\n",
       "      <th>Age</th>\n",
       "      <th>Experience</th>\n",
       "      <th>CURRENT_JOB_YRS</th>\n",
       "      <th>CURRENT_HOUSE_YRS</th>\n",
       "      <th>Risk_Flag</th>\n",
       "    </tr>\n",
       "  </thead>\n",
       "  <tbody>\n",
       "    <tr>\n",
       "      <th>0</th>\n",
       "      <td>1303834</td>\n",
       "      <td>23</td>\n",
       "      <td>3</td>\n",
       "      <td>3</td>\n",
       "      <td>13</td>\n",
       "      <td>0</td>\n",
       "    </tr>\n",
       "    <tr>\n",
       "      <th>1</th>\n",
       "      <td>7574516</td>\n",
       "      <td>40</td>\n",
       "      <td>10</td>\n",
       "      <td>9</td>\n",
       "      <td>13</td>\n",
       "      <td>0</td>\n",
       "    </tr>\n",
       "    <tr>\n",
       "      <th>2</th>\n",
       "      <td>3991815</td>\n",
       "      <td>66</td>\n",
       "      <td>4</td>\n",
       "      <td>4</td>\n",
       "      <td>10</td>\n",
       "      <td>0</td>\n",
       "    </tr>\n",
       "    <tr>\n",
       "      <th>3</th>\n",
       "      <td>6256451</td>\n",
       "      <td>41</td>\n",
       "      <td>2</td>\n",
       "      <td>2</td>\n",
       "      <td>12</td>\n",
       "      <td>1</td>\n",
       "    </tr>\n",
       "    <tr>\n",
       "      <th>4</th>\n",
       "      <td>5768871</td>\n",
       "      <td>47</td>\n",
       "      <td>11</td>\n",
       "      <td>3</td>\n",
       "      <td>14</td>\n",
       "      <td>1</td>\n",
       "    </tr>\n",
       "  </tbody>\n",
       "</table>\n",
       "</div>"
      ],
      "text/plain": [
       "    Income  Age  Experience  CURRENT_JOB_YRS  CURRENT_HOUSE_YRS  Risk_Flag\n",
       "0  1303834   23           3                3                 13          0\n",
       "1  7574516   40          10                9                 13          0\n",
       "2  3991815   66           4                4                 10          0\n",
       "3  6256451   41           2                2                 12          1\n",
       "4  5768871   47          11                3                 14          1"
      ]
     },
     "execution_count": 5,
     "metadata": {},
     "output_type": "execute_result"
    }
   ],
   "source": [
    "# importing clean data\n",
    "cleanTrainData = pd.read_csv('clean-train-data.csv')\n",
    "cleanTrainData = cleanTrainData.drop(['Married/Single', 'House_Ownership', 'Car_Ownership', 'Profession', 'CITY', 'STATE', 'Risk_Class'], axis = 1)\n",
    "cleanTrainData.head()"
   ]
  },
  {
   "cell_type": "markdown",
   "id": "0f04583b",
   "metadata": {},
   "source": [
    "# Classification of Train by Logistic Regression"
   ]
  },
  {
   "cell_type": "code",
   "execution_count": 6,
   "id": "09e663e9",
   "metadata": {},
   "outputs": [],
   "source": [
    "# Getting the X_train, X_vali, y_train and y_vali data\n",
    "y = pd.DataFrame(cleanTrainData['Risk_Flag'])\n",
    "X = pd.DataFrame(cleanTrainData.drop('Risk_Flag',axis = 1))\n",
    "\n",
    "# Split the Dataset into Train and Test\n",
    "X_train, X_vali, y_train, y_vali = train_test_split(X, y, test_size = 0.25)"
   ]
  },
  {
   "cell_type": "code",
   "execution_count": 7,
   "id": "28b30cbd",
   "metadata": {},
   "outputs": [
    {
     "data": {
      "text/html": [
       "<div>\n",
       "<style scoped>\n",
       "    .dataframe tbody tr th:only-of-type {\n",
       "        vertical-align: middle;\n",
       "    }\n",
       "\n",
       "    .dataframe tbody tr th {\n",
       "        vertical-align: top;\n",
       "    }\n",
       "\n",
       "    .dataframe thead th {\n",
       "        text-align: right;\n",
       "    }\n",
       "</style>\n",
       "<table border=\"1\" class=\"dataframe\">\n",
       "  <thead>\n",
       "    <tr style=\"text-align: right;\">\n",
       "      <th></th>\n",
       "      <th>Income</th>\n",
       "      <th>Age</th>\n",
       "      <th>Experience</th>\n",
       "      <th>CURRENT_JOB_YRS</th>\n",
       "      <th>CURRENT_HOUSE_YRS</th>\n",
       "      <th>Risk_Flag</th>\n",
       "    </tr>\n",
       "  </thead>\n",
       "  <tbody>\n",
       "    <tr>\n",
       "      <th>Income</th>\n",
       "      <td>1.000000</td>\n",
       "      <td>-0.000652</td>\n",
       "      <td>0.006422</td>\n",
       "      <td>0.007045</td>\n",
       "      <td>-0.002397</td>\n",
       "      <td>-0.003091</td>\n",
       "    </tr>\n",
       "    <tr>\n",
       "      <th>Age</th>\n",
       "      <td>-0.000652</td>\n",
       "      <td>1.000000</td>\n",
       "      <td>-0.001118</td>\n",
       "      <td>0.002154</td>\n",
       "      <td>-0.020134</td>\n",
       "      <td>-0.021809</td>\n",
       "    </tr>\n",
       "    <tr>\n",
       "      <th>Experience</th>\n",
       "      <td>0.006422</td>\n",
       "      <td>-0.001118</td>\n",
       "      <td>1.000000</td>\n",
       "      <td>0.646098</td>\n",
       "      <td>0.019309</td>\n",
       "      <td>-0.034523</td>\n",
       "    </tr>\n",
       "    <tr>\n",
       "      <th>CURRENT_JOB_YRS</th>\n",
       "      <td>0.007045</td>\n",
       "      <td>0.002154</td>\n",
       "      <td>0.646098</td>\n",
       "      <td>1.000000</td>\n",
       "      <td>0.005372</td>\n",
       "      <td>-0.016942</td>\n",
       "    </tr>\n",
       "    <tr>\n",
       "      <th>CURRENT_HOUSE_YRS</th>\n",
       "      <td>-0.002397</td>\n",
       "      <td>-0.020134</td>\n",
       "      <td>0.019309</td>\n",
       "      <td>0.005372</td>\n",
       "      <td>1.000000</td>\n",
       "      <td>-0.004375</td>\n",
       "    </tr>\n",
       "    <tr>\n",
       "      <th>Risk_Flag</th>\n",
       "      <td>-0.003091</td>\n",
       "      <td>-0.021809</td>\n",
       "      <td>-0.034523</td>\n",
       "      <td>-0.016942</td>\n",
       "      <td>-0.004375</td>\n",
       "      <td>1.000000</td>\n",
       "    </tr>\n",
       "  </tbody>\n",
       "</table>\n",
       "</div>"
      ],
      "text/plain": [
       "                     Income       Age  Experience  CURRENT_JOB_YRS  \\\n",
       "Income             1.000000 -0.000652    0.006422         0.007045   \n",
       "Age               -0.000652  1.000000   -0.001118         0.002154   \n",
       "Experience         0.006422 -0.001118    1.000000         0.646098   \n",
       "CURRENT_JOB_YRS    0.007045  0.002154    0.646098         1.000000   \n",
       "CURRENT_HOUSE_YRS -0.002397 -0.020134    0.019309         0.005372   \n",
       "Risk_Flag         -0.003091 -0.021809   -0.034523        -0.016942   \n",
       "\n",
       "                   CURRENT_HOUSE_YRS  Risk_Flag  \n",
       "Income                     -0.002397  -0.003091  \n",
       "Age                        -0.020134  -0.021809  \n",
       "Experience                  0.019309  -0.034523  \n",
       "CURRENT_JOB_YRS             0.005372  -0.016942  \n",
       "CURRENT_HOUSE_YRS           1.000000  -0.004375  \n",
       "Risk_Flag                  -0.004375   1.000000  "
      ]
     },
     "execution_count": 7,
     "metadata": {},
     "output_type": "execute_result"
    }
   ],
   "source": [
    "# Correlation between the variables\n",
    "cleanTrainData.corr()"
   ]
  },
  {
   "cell_type": "code",
   "execution_count": 8,
   "id": "0e7ce524",
   "metadata": {},
   "outputs": [
    {
     "name": "stdout",
     "output_type": "stream",
     "text": [
      "The odds of having risk in train dataset is\t:  0.1398451258051287\n"
     ]
    },
    {
     "name": "stderr",
     "output_type": "stream",
     "text": [
      "/Users/eecheerlee/opt/anaconda3/lib/python3.8/site-packages/sklearn/utils/validation.py:63: DataConversionWarning: A column-vector y was passed when a 1d array was expected. Please change the shape of y to (n_samples, ), for example using ravel().\n",
      "  return f(*args, **kwargs)\n"
     ]
    },
    {
     "name": "stdout",
     "output_type": "stream",
     "text": [
      "The overall classification accuracy \t\t:  0.8760634920634921\n"
     ]
    }
   ],
   "source": [
    "#Calculate the odds of having Risk\n",
    "print(\"The odds of having risk in train dataset is\\t: \", y_train.value_counts()[1]/y_train.value_counts()[0])\n",
    "\n",
    "#Perform the logistics regression\n",
    "logreg1 = LogisticRegression()\n",
    " \n",
    "#Fit the data\n",
    "logreg1.fit(X_train,y_train)\n",
    "\n",
    "#Print out the mean acuuracy\n",
    "print(\"The overall classification accuracy \\t\\t: \", logreg1.score(X_vali,y_vali))"
   ]
  },
  {
   "cell_type": "code",
   "execution_count": 9,
   "id": "555c96fe",
   "metadata": {},
   "outputs": [
    {
     "data": {
      "image/png": "[encoded data removed]",
      "text/plain": [
       "<Figure size 576x576 with 2 Axes>"
      ]
     },
     "metadata": {
      "needs_background": "light"
     },
     "output_type": "display_data"
    },
    {
     "data": {
      "image/png": "[encoded data removed]",
      "text/plain": [
       "<Figure size 576x576 with 2 Axes>"
      ]
     },
     "metadata": {
      "needs_background": "light"
     },
     "output_type": "display_data"
    }
   ],
   "source": [
    "#Predicting the data\n",
    "y_train_pred = logreg1.predict(X_train)\n",
    "y_vali_pred = logreg1.predict(X_vali)\n",
    "\n",
    "#Visualizing the data\n",
    "table1 = visualize_preds(table1,y_train,y_train_pred, title = 'Random Sampling (TRAIN)')\n",
    "table2 = visualize_preds(table2,y_vali,y_vali_pred, title = 'Random Sampling (TEST)')"
   ]
  },
  {
   "cell_type": "markdown",
   "id": "e36a4f99",
   "metadata": {},
   "source": [
    "For this model, there is a high classification accuracy of 0.88. This may be due to the large imbalance in the dataset."
   ]
  },
  {
   "cell_type": "markdown",
   "id": "ef5be0c8",
   "metadata": {},
   "source": [
    "# Classification of Train by Logistic Regression with upsampling"
   ]
  },
  {
   "cell_type": "code",
   "execution_count": 10,
   "id": "feafed15",
   "metadata": {},
   "outputs": [
    {
     "name": "stdout",
     "output_type": "stream",
     "text": [
      "(442008, 6)\n"
     ]
    }
   ],
   "source": [
    "from sklearn.utils import resample\n",
    "risk = cleanTrainData[cleanTrainData[\"Risk_Flag\"] == 1]\n",
    "no_risk  = cleanTrainData[cleanTrainData[\"Risk_Flag\"] == 0]\n",
    "\n",
    "risk_upsample = resample(risk,\n",
    "             replace=True,\n",
    "             n_samples=no_risk.shape[0])\n",
    "\n",
    "combinedData_up = pd.concat([no_risk, risk_upsample])\n",
    "print(combinedData_up.shape)"
   ]
  },
  {
   "cell_type": "code",
   "execution_count": 11,
   "id": "b30eab8a",
   "metadata": {},
   "outputs": [],
   "source": [
    "# Getting the X_train, X_vali, y_train and y_vali data\n",
    "y = pd.DataFrame(combinedData_up['Risk_Flag'])\n",
    "X = pd.DataFrame(combinedData_up.drop('Risk_Flag',axis = 1))\n",
    "\n",
    "# Split the Dataset into Train and Test\n",
    "X_train, X_vali, y_train, y_vali = train_test_split(X, y, test_size = 0.25)"
   ]
  },
  {
   "cell_type": "code",
   "execution_count": 12,
   "id": "ab1fd6e4",
   "metadata": {},
   "outputs": [
    {
     "name": "stdout",
     "output_type": "stream",
     "text": [
      "The odds of having risk in train dataset is\t:  0.9992280646737065\n",
      "The overall classification accuracy \t\t:  0.4994208249624441\n"
     ]
    },
    {
     "name": "stderr",
     "output_type": "stream",
     "text": [
      "/Users/eecheerlee/opt/anaconda3/lib/python3.8/site-packages/sklearn/utils/validation.py:63: DataConversionWarning: A column-vector y was passed when a 1d array was expected. Please change the shape of y to (n_samples, ), for example using ravel().\n",
      "  return f(*args, **kwargs)\n"
     ]
    }
   ],
   "source": [
    "#Calculate the odds of having Risk\n",
    "print(\"The odds of having risk in train dataset is\\t: \", y_train.value_counts()[1]/y_train.value_counts()[0])\n",
    "\n",
    "#Perform the logistics regression\n",
    "logreg1 = LogisticRegression()\n",
    " \n",
    "#Fit the data\n",
    "logreg1.fit(X_train,y_train)\n",
    "\n",
    "#Print out the mean acuuracy\n",
    "print(\"The overall classification accuracy \\t\\t: \", logreg1.score(X_vali,y_vali))"
   ]
  },
  {
   "cell_type": "code",
   "execution_count": 13,
   "id": "62b4e146",
   "metadata": {},
   "outputs": [
    {
     "data": {
      "image/png": "[encoded data removed]",
      "text/plain": [
       "<Figure size 576x576 with 2 Axes>"
      ]
     },
     "metadata": {
      "needs_background": "light"
     },
     "output_type": "display_data"
    },
    {
     "data": {
      "image/png": "[encoded data removed]",
      "text/plain": [
       "<Figure size 576x576 with 2 Axes>"
      ]
     },
     "metadata": {
      "needs_background": "light"
     },
     "output_type": "display_data"
    }
   ],
   "source": [
    "#Predicting the data\n",
    "y_train_pred = logreg1.predict(X_train)\n",
    "y_vali_pred = logreg1.predict(X_vali)\n",
    "\n",
    "#Visualizing the data\n",
    "table1 = visualize_preds(table1,y_train,y_train_pred, title = 'Random Sampling (TRAIN)')\n",
    "table2 = visualize_preds(table2,y_vali,y_vali_pred, title = 'Random Sampling (TEST)')"
   ]
  },
  {
   "cell_type": "markdown",
   "id": "4dc67e5c",
   "metadata": {},
   "source": [
    "After upsampling the data, the overall classification accuracy has reduced to 0.50 which can be a better model in predicting `Risk_Flag`. However, there is data leakage due to upsampling and we have thus decided to downsample our data to solve this issue."
   ]
  },
  {
   "cell_type": "markdown",
   "id": "ce2ee821",
   "metadata": {},
   "source": [
    "# Classification of Train by Logistic Regression with downsampling"
   ]
  },
  {
   "cell_type": "code",
   "execution_count": 14,
   "id": "d5bf9110",
   "metadata": {},
   "outputs": [
    {
     "name": "stdout",
     "output_type": "stream",
     "text": [
      "(61992, 6)\n"
     ]
    }
   ],
   "source": [
    "risk = cleanTrainData[cleanTrainData[\"Risk_Flag\"] == 1]\n",
    "no_risk  = cleanTrainData[cleanTrainData[\"Risk_Flag\"] == 0]\n",
    "\n",
    "no_risk_downsample = resample(no_risk,\n",
    "             replace=True,\n",
    "             n_samples=risk.shape[0])\n",
    "\n",
    "combinedData_down = pd.concat([risk, no_risk_downsample])\n",
    "print(combinedData_down.shape)"
   ]
  },
  {
   "cell_type": "code",
   "execution_count": 15,
   "id": "08325b7e",
   "metadata": {},
   "outputs": [],
   "source": [
    "# Getting the X_train, X_vali, y_train and y_vali data\n",
    "y = pd.DataFrame(combinedData_down['Risk_Flag'])\n",
    "X = pd.DataFrame(combinedData_down.drop('Risk_Flag',axis = 1))\n",
    "\n",
    "# Split the Dataset into Train and Test\n",
    "X_train, X_vali, y_train, y_vali = train_test_split(X, y, test_size = 0.25)"
   ]
  },
  {
   "cell_type": "code",
   "execution_count": 16,
   "id": "7d923da3",
   "metadata": {},
   "outputs": [
    {
     "name": "stdout",
     "output_type": "stream",
     "text": [
      "The odds of having risk in train dataset is\t:  0.9963931469792606\n",
      "The overall classification accuracy \t\t:  0.497289972899729\n"
     ]
    },
    {
     "name": "stderr",
     "output_type": "stream",
     "text": [
      "/Users/eecheerlee/opt/anaconda3/lib/python3.8/site-packages/sklearn/utils/validation.py:63: DataConversionWarning: A column-vector y was passed when a 1d array was expected. Please change the shape of y to (n_samples, ), for example using ravel().\n",
      "  return f(*args, **kwargs)\n"
     ]
    }
   ],
   "source": [
    "#Calculate the odd of a movie is good\n",
    "print(\"The odds of having risk in train dataset is\\t: \", y_train.value_counts()[1]/y_train.value_counts()[0])\n",
    "\n",
    "#Perform the logistics regression\n",
    "logreg1 = LogisticRegression()\n",
    " \n",
    "#Fit the data\n",
    "logreg1.fit(X_train,y_train)\n",
    "\n",
    "#Print out the mean acuuracy\n",
    "print(\"The overall classification accuracy \\t\\t: \", logreg1.score(X_vali,y_vali))"
   ]
  },
  {
   "cell_type": "code",
   "execution_count": 17,
   "id": "c34d7185",
   "metadata": {},
   "outputs": [
    {
     "data": {
      "image/png": "[encoded data removed]",
      "text/plain": [
       "<Figure size 576x576 with 2 Axes>"
      ]
     },
     "metadata": {
      "needs_background": "light"
     },
     "output_type": "display_data"
    },
    {
     "data": {
      "image/png": "[encoded data removed]",
      "text/plain": [
       "<Figure size 576x576 with 2 Axes>"
      ]
     },
     "metadata": {
      "needs_background": "light"
     },
     "output_type": "display_data"
    }
   ],
   "source": [
    "#Predicting the data\n",
    "y_train_pred = logreg1.predict(X_train)\n",
    "y_vali_pred = logreg1.predict(X_vali)\n",
    "\n",
    "#Visualizing the data\n",
    "table1 = visualize_preds(table1,y_train,y_train_pred, title = 'Random Sampling (TRAIN)')\n",
    "table2 = visualize_preds(table2,y_vali,y_vali_pred, title = 'Random Sampling (TEST)')"
   ]
  },
  {
   "cell_type": "markdown",
   "id": "781ca146",
   "metadata": {},
   "source": [
    "After downsampling our data, our logistic regression model still has a classification accuracy of around 0.5. However, with this model, data leakage has been accounted for which makes it a better model. \n",
    "\n",
    "Unlike linear regression where we use the predictors to predict the numeric response variable, logistic regression uses the predictors to predict a categorical response variable. Even though our logistic regression model may not be the most accurate, we have learnt that such a model to predict categorical variables exist and perhaps we can use it for other projects in the future."
   ]
  },
  {
   "cell_type": "code",
   "execution_count": null,
   "id": "2970b975",
   "metadata": {},
   "outputs": [],
   "source": []
  }
 ],
 "metadata": {
  "kernelspec": {
   "display_name": "Python 3",
   "language": "python",
   "name": "python3"
  },
  "language_info": {
   "codemirror_mode": {
    "name": "ipython",
    "version": 3
   },
   "file_extension": ".py",
   "mimetype": "text/x-python",
   "name": "python",
   "nbconvert_exporter": "python",
   "pygments_lexer": "ipython3",
   "version": "3.8.8"
  }
 },
 "nbformat": 4,
 "nbformat_minor": 5
}
